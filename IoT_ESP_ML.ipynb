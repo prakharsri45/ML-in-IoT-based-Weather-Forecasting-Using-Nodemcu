{
  "nbformat": 4,
  "nbformat_minor": 0,
  "metadata": {
    "colab": {
      "name": "IoT_ESP_ML_original.ipynb",
      "provenance": [],
      "collapsed_sections": []
    },
    "kernelspec": {
      "display_name": "Python 3",
      "name": "python3"
    },
    "language_info": {
      "name": "python"
    }
  },
  "cells": [
    {
      "cell_type": "markdown",
      "metadata": {
        "id": "uV9F2PSLiBjE"
      },
      "source": [
        "# ***Install all Modules*** "
      ]
    },
    {
      "cell_type": "code",
      "metadata": {
        "colab": {
          "base_uri": "https://localhost:8080/",
          "height": 242
        },
        "id": "Egb8B194sMBz",
        "outputId": "7c0bcc1b-b5a5-4acc-bc7b-8bf122dc85bd"
      },
      "source": [
        "!pip install anvil-uplink"
      ],
      "execution_count": null,
      "outputs": [
        {
          "output_type": "stream",
          "name": "stdout",
          "text": [
            "Requirement already satisfied: anvil-uplink in /usr/local/lib/python3.7/dist-packages (0.3.41)\n",
            "Requirement already satisfied: future in /usr/local/lib/python3.7/dist-packages (from anvil-uplink) (0.16.0)\n",
            "Collecting argparse\n",
            "  Using cached argparse-1.4.0-py2.py3-none-any.whl (23 kB)\n",
            "Requirement already satisfied: ws4py in /usr/local/lib/python3.7/dist-packages (from anvil-uplink) (0.5.1)\n",
            "Requirement already satisfied: six in /usr/local/lib/python3.7/dist-packages (from anvil-uplink) (1.15.0)\n",
            "Installing collected packages: argparse\n",
            "Successfully installed argparse-1.4.0\n"
          ]
        },
        {
          "output_type": "display_data",
          "data": {
            "application/vnd.colab-display-data+json": {
              "pip_warning": {
                "packages": [
                  "argparse"
                ]
              }
            }
          },
          "metadata": {}
        }
      ]
    },
    {
      "cell_type": "code",
      "metadata": {
        "id": "BIGaE3naJAaj"
      },
      "source": [
        "import pandas as pd\n",
        "import numpy as np\n",
        "from datetime import datetime\n",
        "import warnings\n",
        "warnings.filterwarnings(\"ignore\")\n"
      ],
      "execution_count": null,
      "outputs": []
    },
    {
      "cell_type": "code",
      "metadata": {
        "id": "ASvFtfF5sg4g"
      },
      "source": [
        "import anvil.server\n",
        "anvil.server.connect(\"UYWSCE3FDS2DJGED34BSAD5M-N3TE4MH6NARGLI6W\")"
      ],
      "execution_count": null,
      "outputs": []
    },
    {
      "cell_type": "markdown",
      "metadata": {
        "id": "4FHQ35XgiYH0"
      },
      "source": [
        "# ***Authenticate Googledrive for CSV file***"
      ]
    },
    {
      "cell_type": "code",
      "metadata": {
        "colab": {
          "base_uri": "https://localhost:8080/"
        },
        "id": "_isihI7wDs7e",
        "outputId": "0a794926-ba8c-49a0-8a42-ed0cbb825ae8"
      },
      "source": [
        "from google.colab import drive\n",
        "drive.mount('/content/drive')"
      ],
      "execution_count": null,
      "outputs": [
        {
          "output_type": "stream",
          "name": "stdout",
          "text": [
            "Drive already mounted at /content/drive; to attempt to forcibly remount, call drive.mount(\"/content/drive\", force_remount=True).\n"
          ]
        }
      ]
    },
    {
      "cell_type": "code",
      "metadata": {
        "colab": {
          "base_uri": "https://localhost:8080/",
          "height": 206
        },
        "id": "kGxBVAayh3kd",
        "outputId": "143036c9-4eb9-451d-b739-be996e824bad"
      },
      "source": [
        "from google.colab import auth\n",
        "auth.authenticate_user()\n",
        "\n",
        "import gspread\n",
        "from oauth2client.client import GoogleCredentials\n",
        "\n",
        "gc = gspread.authorize(GoogleCredentials.get_application_default())\n",
        "\n",
        "wb = gc.open_by_key('1S0hGk_s80zV2WJnVrtPf8tJxoBJJmLKCGZEMcupsNLY') #.sheet1\n",
        "ws = wb.worksheet('iot')\n",
        "\n",
        "# get_all_values gives a list of rows.\n",
        "values = ws.get_all_values()\n",
        "#print(values)\n",
        "\n",
        "# Convert to a DataFrame and render.\n",
        "import pandas as pd\n",
        "df = pd.DataFrame.from_records(values)\n",
        "\n",
        "#df = pd.read_excel('/content/drive/MyDrive/IOTESP.gsheet')#('/content/drive/MyDrive/Colab Notebooks/User_data.xlsx')\n",
        "df.head()"
      ],
      "execution_count": null,
      "outputs": [
        {
          "output_type": "execute_result",
          "data": {
            "text/html": [
              "<div>\n",
              "<style scoped>\n",
              "    .dataframe tbody tr th:only-of-type {\n",
              "        vertical-align: middle;\n",
              "    }\n",
              "\n",
              "    .dataframe tbody tr th {\n",
              "        vertical-align: top;\n",
              "    }\n",
              "\n",
              "    .dataframe thead th {\n",
              "        text-align: right;\n",
              "    }\n",
              "</style>\n",
              "<table border=\"1\" class=\"dataframe\">\n",
              "  <thead>\n",
              "    <tr style=\"text-align: right;\">\n",
              "      <th></th>\n",
              "      <th>0</th>\n",
              "      <th>1</th>\n",
              "      <th>2</th>\n",
              "      <th>3</th>\n",
              "      <th>4</th>\n",
              "      <th>5</th>\n",
              "      <th>6</th>\n",
              "    </tr>\n",
              "  </thead>\n",
              "  <tbody>\n",
              "    <tr>\n",
              "      <th>0</th>\n",
              "      <td>S.No.</td>\n",
              "      <td>Date</td>\n",
              "      <td>Time</td>\n",
              "      <td>Temperature (°C)</td>\n",
              "      <td></td>\n",
              "      <td>Humidity (%)</td>\n",
              "      <td></td>\n",
              "    </tr>\n",
              "    <tr>\n",
              "      <th>1</th>\n",
              "      <td>1</td>\n",
              "      <td>10/12/2021</td>\n",
              "      <td>4:46:21 PM</td>\n",
              "      <td>26</td>\n",
              "      <td>°C</td>\n",
              "      <td>66</td>\n",
              "      <td>%</td>\n",
              "    </tr>\n",
              "    <tr>\n",
              "      <th>2</th>\n",
              "      <td>2</td>\n",
              "      <td>10/12/2021</td>\n",
              "      <td>4:46:30 PM</td>\n",
              "      <td>26</td>\n",
              "      <td>°C</td>\n",
              "      <td>66</td>\n",
              "      <td>%</td>\n",
              "    </tr>\n",
              "    <tr>\n",
              "      <th>3</th>\n",
              "      <td>3</td>\n",
              "      <td>10/12/2021</td>\n",
              "      <td>4:46:58 PM</td>\n",
              "      <td>26</td>\n",
              "      <td>°C</td>\n",
              "      <td>66</td>\n",
              "      <td>%</td>\n",
              "    </tr>\n",
              "    <tr>\n",
              "      <th>4</th>\n",
              "      <td>4</td>\n",
              "      <td>10/12/2021</td>\n",
              "      <td>4:47:04 PM</td>\n",
              "      <td>26</td>\n",
              "      <td>°C</td>\n",
              "      <td>65</td>\n",
              "      <td>%</td>\n",
              "    </tr>\n",
              "  </tbody>\n",
              "</table>\n",
              "</div>"
            ],
            "text/plain": [
              "       0           1           2                 3   4             5  6\n",
              "0  S.No.        Date        Time  Temperature (°C)      Humidity (%)   \n",
              "1      1  10/12/2021  4:46:21 PM                26  °C            66  %\n",
              "2      2  10/12/2021  4:46:30 PM                26  °C            66  %\n",
              "3      3  10/12/2021  4:46:58 PM                26  °C            66  %\n",
              "4      4  10/12/2021  4:47:04 PM                26  °C            65  %"
            ]
          },
          "metadata": {},
          "execution_count": 215
        }
      ]
    },
    {
      "cell_type": "markdown",
      "metadata": {
        "id": "zl6uRHXkitYa"
      },
      "source": [
        "# ***Transform data for Learning***"
      ]
    },
    {
      "cell_type": "code",
      "metadata": {
        "id": "c6gdku9I-ZBZ"
      },
      "source": [
        "df.drop([4,6],axis=1,inplace=True)\n"
      ],
      "execution_count": null,
      "outputs": []
    },
    {
      "cell_type": "code",
      "metadata": {
        "id": "3xlO_rINsiQd",
        "colab": {
          "base_uri": "https://localhost:8080/",
          "height": 206
        },
        "outputId": "77bd3c4f-d4ec-4306-f0fd-e6c5676638c9"
      },
      "source": [
        "header_row = 0\n",
        "df.columns = df.iloc[header_row]\n",
        "df = df.drop(header_row)\n",
        "df = df.reset_index(drop=True)\n",
        "df.head()"
      ],
      "execution_count": null,
      "outputs": [
        {
          "output_type": "execute_result",
          "data": {
            "text/html": [
              "<div>\n",
              "<style scoped>\n",
              "    .dataframe tbody tr th:only-of-type {\n",
              "        vertical-align: middle;\n",
              "    }\n",
              "\n",
              "    .dataframe tbody tr th {\n",
              "        vertical-align: top;\n",
              "    }\n",
              "\n",
              "    .dataframe thead th {\n",
              "        text-align: right;\n",
              "    }\n",
              "</style>\n",
              "<table border=\"1\" class=\"dataframe\">\n",
              "  <thead>\n",
              "    <tr style=\"text-align: right;\">\n",
              "      <th></th>\n",
              "      <th>S.No.</th>\n",
              "      <th>Date</th>\n",
              "      <th>Time</th>\n",
              "      <th>Temperature (°C)</th>\n",
              "      <th>Humidity (%)</th>\n",
              "    </tr>\n",
              "  </thead>\n",
              "  <tbody>\n",
              "    <tr>\n",
              "      <th>0</th>\n",
              "      <td>1</td>\n",
              "      <td>10/12/2021</td>\n",
              "      <td>4:46:21 PM</td>\n",
              "      <td>26</td>\n",
              "      <td>66</td>\n",
              "    </tr>\n",
              "    <tr>\n",
              "      <th>1</th>\n",
              "      <td>2</td>\n",
              "      <td>10/12/2021</td>\n",
              "      <td>4:46:30 PM</td>\n",
              "      <td>26</td>\n",
              "      <td>66</td>\n",
              "    </tr>\n",
              "    <tr>\n",
              "      <th>2</th>\n",
              "      <td>3</td>\n",
              "      <td>10/12/2021</td>\n",
              "      <td>4:46:58 PM</td>\n",
              "      <td>26</td>\n",
              "      <td>66</td>\n",
              "    </tr>\n",
              "    <tr>\n",
              "      <th>3</th>\n",
              "      <td>4</td>\n",
              "      <td>10/12/2021</td>\n",
              "      <td>4:47:04 PM</td>\n",
              "      <td>26</td>\n",
              "      <td>65</td>\n",
              "    </tr>\n",
              "    <tr>\n",
              "      <th>4</th>\n",
              "      <td>5</td>\n",
              "      <td>10/12/2021</td>\n",
              "      <td>4:47:08 PM</td>\n",
              "      <td>26</td>\n",
              "      <td>65</td>\n",
              "    </tr>\n",
              "  </tbody>\n",
              "</table>\n",
              "</div>"
            ],
            "text/plain": [
              "0 S.No.        Date        Time Temperature (°C) Humidity (%)\n",
              "0     1  10/12/2021  4:46:21 PM               26           66\n",
              "1     2  10/12/2021  4:46:30 PM               26           66\n",
              "2     3  10/12/2021  4:46:58 PM               26           66\n",
              "3     4  10/12/2021  4:47:04 PM               26           65\n",
              "4     5  10/12/2021  4:47:08 PM               26           65"
            ]
          },
          "metadata": {},
          "execution_count": 217
        }
      ]
    },
    {
      "cell_type": "code",
      "metadata": {
        "id": "CgsFxdmhMH1F"
      },
      "source": [
        "df['Date'] = pd.to_datetime(df['Date']).dt.date\n",
        "df = df.dropna(how='any',axis=0)\n"
      ],
      "execution_count": null,
      "outputs": []
    },
    {
      "cell_type": "code",
      "metadata": {
        "id": "0lULaItcK2uX",
        "colab": {
          "base_uri": "https://localhost:8080/"
        },
        "outputId": "9c03b9e5-6b87-4ce0-ad62-631e1ac8c006"
      },
      "source": [
        "df.info()"
      ],
      "execution_count": null,
      "outputs": [
        {
          "output_type": "stream",
          "name": "stdout",
          "text": [
            "<class 'pandas.core.frame.DataFrame'>\n",
            "Int64Index: 5295 entries, 0 to 5294\n",
            "Data columns (total 5 columns):\n",
            " #   Column            Non-Null Count  Dtype \n",
            "---  ------            --------------  ----- \n",
            " 0   S.No.             5295 non-null   object\n",
            " 1   Date              5295 non-null   object\n",
            " 2   Time              5295 non-null   object\n",
            " 3   Temperature (°C)  5295 non-null   object\n",
            " 4   Humidity (%)      5295 non-null   object\n",
            "dtypes: object(5)\n",
            "memory usage: 248.2+ KB\n"
          ]
        }
      ]
    },
    {
      "cell_type": "code",
      "metadata": {
        "id": "RDCyADZIRH3K",
        "colab": {
          "base_uri": "https://localhost:8080/",
          "height": 175
        },
        "outputId": "5d37b671-b923-473f-8eae-58722aa250fd"
      },
      "source": [
        "df.describe()"
      ],
      "execution_count": null,
      "outputs": [
        {
          "output_type": "execute_result",
          "data": {
            "text/html": [
              "<div>\n",
              "<style scoped>\n",
              "    .dataframe tbody tr th:only-of-type {\n",
              "        vertical-align: middle;\n",
              "    }\n",
              "\n",
              "    .dataframe tbody tr th {\n",
              "        vertical-align: top;\n",
              "    }\n",
              "\n",
              "    .dataframe thead th {\n",
              "        text-align: right;\n",
              "    }\n",
              "</style>\n",
              "<table border=\"1\" class=\"dataframe\">\n",
              "  <thead>\n",
              "    <tr style=\"text-align: right;\">\n",
              "      <th></th>\n",
              "      <th>S.No.</th>\n",
              "      <th>Date</th>\n",
              "      <th>Time</th>\n",
              "      <th>Temperature (°C)</th>\n",
              "      <th>Humidity (%)</th>\n",
              "    </tr>\n",
              "  </thead>\n",
              "  <tbody>\n",
              "    <tr>\n",
              "      <th>count</th>\n",
              "      <td>5295</td>\n",
              "      <td>5295</td>\n",
              "      <td>5295</td>\n",
              "      <td>5295</td>\n",
              "      <td>5295</td>\n",
              "    </tr>\n",
              "    <tr>\n",
              "      <th>unique</th>\n",
              "      <td>5295</td>\n",
              "      <td>4</td>\n",
              "      <td>5280</td>\n",
              "      <td>16</td>\n",
              "      <td>45</td>\n",
              "    </tr>\n",
              "    <tr>\n",
              "      <th>top</th>\n",
              "      <td>492</td>\n",
              "      <td>2021-10-12</td>\n",
              "      <td>2:09:57 AM</td>\n",
              "      <td>15</td>\n",
              "      <td>98</td>\n",
              "    </tr>\n",
              "    <tr>\n",
              "      <th>freq</th>\n",
              "      <td>1</td>\n",
              "      <td>4775</td>\n",
              "      <td>7</td>\n",
              "      <td>2132</td>\n",
              "      <td>1221</td>\n",
              "    </tr>\n",
              "  </tbody>\n",
              "</table>\n",
              "</div>"
            ],
            "text/plain": [
              "0      S.No.        Date        Time Temperature (°C) Humidity (%)\n",
              "count   5295        5295        5295             5295         5295\n",
              "unique  5295           4        5280               16           45\n",
              "top      492  2021-10-12  2:09:57 AM               15           98\n",
              "freq       1        4775           7             2132         1221"
            ]
          },
          "metadata": {},
          "execution_count": 220
        }
      ]
    },
    {
      "cell_type": "code",
      "metadata": {
        "id": "dcmiDyVwRnen"
      },
      "source": [
        "# df.set_index(df['Date'],inplace=True)"
      ],
      "execution_count": null,
      "outputs": []
    },
    {
      "cell_type": "code",
      "metadata": {
        "id": "fdNbAvuLR9-Y"
      },
      "source": [
        "# df.drop('Date',axis=1,inplace=True)"
      ],
      "execution_count": null,
      "outputs": []
    },
    {
      "cell_type": "code",
      "metadata": {
        "id": "0bTNvRB6SCf0",
        "colab": {
          "base_uri": "https://localhost:8080/",
          "height": 206
        },
        "outputId": "706d3db8-23dc-4a99-d0f5-c8419eca5fdb"
      },
      "source": [
        "df.head()\n"
      ],
      "execution_count": null,
      "outputs": [
        {
          "output_type": "execute_result",
          "data": {
            "text/html": [
              "<div>\n",
              "<style scoped>\n",
              "    .dataframe tbody tr th:only-of-type {\n",
              "        vertical-align: middle;\n",
              "    }\n",
              "\n",
              "    .dataframe tbody tr th {\n",
              "        vertical-align: top;\n",
              "    }\n",
              "\n",
              "    .dataframe thead th {\n",
              "        text-align: right;\n",
              "    }\n",
              "</style>\n",
              "<table border=\"1\" class=\"dataframe\">\n",
              "  <thead>\n",
              "    <tr style=\"text-align: right;\">\n",
              "      <th></th>\n",
              "      <th>S.No.</th>\n",
              "      <th>Date</th>\n",
              "      <th>Time</th>\n",
              "      <th>Temperature (°C)</th>\n",
              "      <th>Humidity (%)</th>\n",
              "    </tr>\n",
              "  </thead>\n",
              "  <tbody>\n",
              "    <tr>\n",
              "      <th>0</th>\n",
              "      <td>1</td>\n",
              "      <td>2021-10-12</td>\n",
              "      <td>4:46:21 PM</td>\n",
              "      <td>26</td>\n",
              "      <td>66</td>\n",
              "    </tr>\n",
              "    <tr>\n",
              "      <th>1</th>\n",
              "      <td>2</td>\n",
              "      <td>2021-10-12</td>\n",
              "      <td>4:46:30 PM</td>\n",
              "      <td>26</td>\n",
              "      <td>66</td>\n",
              "    </tr>\n",
              "    <tr>\n",
              "      <th>2</th>\n",
              "      <td>3</td>\n",
              "      <td>2021-10-12</td>\n",
              "      <td>4:46:58 PM</td>\n",
              "      <td>26</td>\n",
              "      <td>66</td>\n",
              "    </tr>\n",
              "    <tr>\n",
              "      <th>3</th>\n",
              "      <td>4</td>\n",
              "      <td>2021-10-12</td>\n",
              "      <td>4:47:04 PM</td>\n",
              "      <td>26</td>\n",
              "      <td>65</td>\n",
              "    </tr>\n",
              "    <tr>\n",
              "      <th>4</th>\n",
              "      <td>5</td>\n",
              "      <td>2021-10-12</td>\n",
              "      <td>4:47:08 PM</td>\n",
              "      <td>26</td>\n",
              "      <td>65</td>\n",
              "    </tr>\n",
              "  </tbody>\n",
              "</table>\n",
              "</div>"
            ],
            "text/plain": [
              "0 S.No.        Date        Time Temperature (°C) Humidity (%)\n",
              "0     1  2021-10-12  4:46:21 PM               26           66\n",
              "1     2  2021-10-12  4:46:30 PM               26           66\n",
              "2     3  2021-10-12  4:46:58 PM               26           66\n",
              "3     4  2021-10-12  4:47:04 PM               26           65\n",
              "4     5  2021-10-12  4:47:08 PM               26           65"
            ]
          },
          "metadata": {},
          "execution_count": 223
        }
      ]
    },
    {
      "cell_type": "code",
      "metadata": {
        "id": "eCXf3MXKAjXD"
      },
      "source": [
        "df['Temperature (°C)'] = df['Temperature (°C)'].astype(int)\n",
        "df['Humidity (%)'] = df['Humidity (%)'].astype(int)"
      ],
      "execution_count": null,
      "outputs": []
    },
    {
      "cell_type": "markdown",
      "metadata": {
        "id": "b3rfrh84i_hO"
      },
      "source": [
        "## **Plot of the data**"
      ]
    },
    {
      "cell_type": "code",
      "metadata": {
        "id": "noI04iByBHjO",
        "colab": {
          "base_uri": "https://localhost:8080/",
          "height": 296
        },
        "outputId": "4d0b2df3-af2f-461f-9bbc-7262afd29c9d"
      },
      "source": [
        "df.plot(grid=True, x='S.No.', y='Temperature (°C)', kind='line')"
      ],
      "execution_count": null,
      "outputs": [
        {
          "output_type": "execute_result",
          "data": {
            "text/plain": [
              "<matplotlib.axes._subplots.AxesSubplot at 0x7fb0e56f1190>"
            ]
          },
          "metadata": {},
          "execution_count": 225
        },
        {
          "output_type": "display_data",
          "data": {
            "image/png": "[encoded data removed]",
            "text/plain": [
              "<Figure size 432x288 with 1 Axes>"
            ]
          },
          "metadata": {
            "needs_background": "light"
          }
        }
      ]
    },
    {
      "cell_type": "code",
      "metadata": {
        "id": "94LD6m-BSEze",
        "colab": {
          "base_uri": "https://localhost:8080/",
          "height": 296
        },
        "outputId": "ef6ec583-e826-45c1-d831-637d0779ef32"
      },
      "source": [
        "df.plot(grid=True, x='S.No.', y='Humidity (%)', kind='line')"
      ],
      "execution_count": null,
      "outputs": [
        {
          "output_type": "execute_result",
          "data": {
            "text/plain": [
              "<matplotlib.axes._subplots.AxesSubplot at 0x7fb0e510d3d0>"
            ]
          },
          "metadata": {},
          "execution_count": 226
        },
        {
          "output_type": "display_data",
          "data": {
            "image/png": "[encoded data removed]",
            "text/plain": [
              "<Figure size 432x288 with 1 Axes>"
            ]
          },
          "metadata": {
            "needs_background": "light"
          }
        }
      ]
    },
    {
      "cell_type": "code",
      "metadata": {
        "id": "0Y2JI0PFSP5p"
      },
      "source": [
        "#df.drop('time', axis=1, inplace = True)"
      ],
      "execution_count": null,
      "outputs": []
    },
    {
      "cell_type": "code",
      "metadata": {
        "id": "Sqe7a9529YOT",
        "colab": {
          "base_uri": "https://localhost:8080/",
          "height": 206
        },
        "outputId": "30ce2989-da3a-4577-88b0-073fef7d2a25"
      },
      "source": [
        "df = df.reset_index(drop=True)\n",
        "df.head()"
      ],
      "execution_count": null,
      "outputs": [
        {
          "output_type": "execute_result",
          "data": {
            "text/html": [
              "<div>\n",
              "<style scoped>\n",
              "    .dataframe tbody tr th:only-of-type {\n",
              "        vertical-align: middle;\n",
              "    }\n",
              "\n",
              "    .dataframe tbody tr th {\n",
              "        vertical-align: top;\n",
              "    }\n",
              "\n",
              "    .dataframe thead th {\n",
              "        text-align: right;\n",
              "    }\n",
              "</style>\n",
              "<table border=\"1\" class=\"dataframe\">\n",
              "  <thead>\n",
              "    <tr style=\"text-align: right;\">\n",
              "      <th></th>\n",
              "      <th>S.No.</th>\n",
              "      <th>Date</th>\n",
              "      <th>Time</th>\n",
              "      <th>Temperature (°C)</th>\n",
              "      <th>Humidity (%)</th>\n",
              "    </tr>\n",
              "  </thead>\n",
              "  <tbody>\n",
              "    <tr>\n",
              "      <th>0</th>\n",
              "      <td>1</td>\n",
              "      <td>2021-10-12</td>\n",
              "      <td>4:46:21 PM</td>\n",
              "      <td>26</td>\n",
              "      <td>66</td>\n",
              "    </tr>\n",
              "    <tr>\n",
              "      <th>1</th>\n",
              "      <td>2</td>\n",
              "      <td>2021-10-12</td>\n",
              "      <td>4:46:30 PM</td>\n",
              "      <td>26</td>\n",
              "      <td>66</td>\n",
              "    </tr>\n",
              "    <tr>\n",
              "      <th>2</th>\n",
              "      <td>3</td>\n",
              "      <td>2021-10-12</td>\n",
              "      <td>4:46:58 PM</td>\n",
              "      <td>26</td>\n",
              "      <td>66</td>\n",
              "    </tr>\n",
              "    <tr>\n",
              "      <th>3</th>\n",
              "      <td>4</td>\n",
              "      <td>2021-10-12</td>\n",
              "      <td>4:47:04 PM</td>\n",
              "      <td>26</td>\n",
              "      <td>65</td>\n",
              "    </tr>\n",
              "    <tr>\n",
              "      <th>4</th>\n",
              "      <td>5</td>\n",
              "      <td>2021-10-12</td>\n",
              "      <td>4:47:08 PM</td>\n",
              "      <td>26</td>\n",
              "      <td>65</td>\n",
              "    </tr>\n",
              "  </tbody>\n",
              "</table>\n",
              "</div>"
            ],
            "text/plain": [
              "0 S.No.        Date        Time  Temperature (°C)  Humidity (%)\n",
              "0     1  2021-10-12  4:46:21 PM                26            66\n",
              "1     2  2021-10-12  4:46:30 PM                26            66\n",
              "2     3  2021-10-12  4:46:58 PM                26            66\n",
              "3     4  2021-10-12  4:47:04 PM                26            65\n",
              "4     5  2021-10-12  4:47:08 PM                26            65"
            ]
          },
          "metadata": {},
          "execution_count": 228
        }
      ]
    },
    {
      "cell_type": "code",
      "metadata": {
        "id": "2dubDlt8_D-I",
        "colab": {
          "base_uri": "https://localhost:8080/",
          "height": 206
        },
        "outputId": "a2d74331-4266-47e1-f787-eeb1ac07a5ad"
      },
      "source": [
        "time_ampm = df['Time'].str.split(' ', n = 2, expand = True)\n",
        "time_ampm.loc[time_ampm[1] == 'PM', 'New_Time'] = time_ampm[0] + \":\" + \"01\"\n",
        "time_ampm.loc[time_ampm[1] == 'AM', 'New_Time'] = time_ampm[0] + \":\" + \"02\"\n",
        "time_ampm_new = time_ampm['New_Time'].str.split(':', expand = True)\n",
        "time_ampm = time_ampm_new[0] + time_ampm_new[1] + time_ampm_new[3]\n",
        "\n",
        "date_division = df['Date'].astype(str).str.split('-', expand=True)\n",
        "date_division = date_division[0]+date_division[1]+date_division[2]\n",
        "\n",
        "df['datetime_sort_ref'] = (date_division + time_ampm).astype(int)\n",
        "df['dates'] = df['Date'].astype(str)+ \" \" + df['Time'].astype(str)\n",
        "df['dates'] = pd.to_datetime(df['dates'])\n",
        "df.head()"
      ],
      "execution_count": null,
      "outputs": [
        {
          "output_type": "execute_result",
          "data": {
            "text/html": [
              "<div>\n",
              "<style scoped>\n",
              "    .dataframe tbody tr th:only-of-type {\n",
              "        vertical-align: middle;\n",
              "    }\n",
              "\n",
              "    .dataframe tbody tr th {\n",
              "        vertical-align: top;\n",
              "    }\n",
              "\n",
              "    .dataframe thead th {\n",
              "        text-align: right;\n",
              "    }\n",
              "</style>\n",
              "<table border=\"1\" class=\"dataframe\">\n",
              "  <thead>\n",
              "    <tr style=\"text-align: right;\">\n",
              "      <th></th>\n",
              "      <th>S.No.</th>\n",
              "      <th>Date</th>\n",
              "      <th>Time</th>\n",
              "      <th>Temperature (°C)</th>\n",
              "      <th>Humidity (%)</th>\n",
              "      <th>datetime_sort_ref</th>\n",
              "      <th>dates</th>\n",
              "    </tr>\n",
              "  </thead>\n",
              "  <tbody>\n",
              "    <tr>\n",
              "      <th>0</th>\n",
              "      <td>1</td>\n",
              "      <td>2021-10-12</td>\n",
              "      <td>4:46:21 PM</td>\n",
              "      <td>26</td>\n",
              "      <td>66</td>\n",
              "      <td>2021101244601</td>\n",
              "      <td>2021-10-12 16:46:21</td>\n",
              "    </tr>\n",
              "    <tr>\n",
              "      <th>1</th>\n",
              "      <td>2</td>\n",
              "      <td>2021-10-12</td>\n",
              "      <td>4:46:30 PM</td>\n",
              "      <td>26</td>\n",
              "      <td>66</td>\n",
              "      <td>2021101244601</td>\n",
              "      <td>2021-10-12 16:46:30</td>\n",
              "    </tr>\n",
              "    <tr>\n",
              "      <th>2</th>\n",
              "      <td>3</td>\n",
              "      <td>2021-10-12</td>\n",
              "      <td>4:46:58 PM</td>\n",
              "      <td>26</td>\n",
              "      <td>66</td>\n",
              "      <td>2021101244601</td>\n",
              "      <td>2021-10-12 16:46:58</td>\n",
              "    </tr>\n",
              "    <tr>\n",
              "      <th>3</th>\n",
              "      <td>4</td>\n",
              "      <td>2021-10-12</td>\n",
              "      <td>4:47:04 PM</td>\n",
              "      <td>26</td>\n",
              "      <td>65</td>\n",
              "      <td>2021101244701</td>\n",
              "      <td>2021-10-12 16:47:04</td>\n",
              "    </tr>\n",
              "    <tr>\n",
              "      <th>4</th>\n",
              "      <td>5</td>\n",
              "      <td>2021-10-12</td>\n",
              "      <td>4:47:08 PM</td>\n",
              "      <td>26</td>\n",
              "      <td>65</td>\n",
              "      <td>2021101244701</td>\n",
              "      <td>2021-10-12 16:47:08</td>\n",
              "    </tr>\n",
              "  </tbody>\n",
              "</table>\n",
              "</div>"
            ],
            "text/plain": [
              "0 S.No.        Date  ... datetime_sort_ref               dates\n",
              "0     1  2021-10-12  ...     2021101244601 2021-10-12 16:46:21\n",
              "1     2  2021-10-12  ...     2021101244601 2021-10-12 16:46:30\n",
              "2     3  2021-10-12  ...     2021101244601 2021-10-12 16:46:58\n",
              "3     4  2021-10-12  ...     2021101244701 2021-10-12 16:47:04\n",
              "4     5  2021-10-12  ...     2021101244701 2021-10-12 16:47:08\n",
              "\n",
              "[5 rows x 7 columns]"
            ]
          },
          "metadata": {},
          "execution_count": 229
        }
      ]
    },
    {
      "cell_type": "code",
      "metadata": {
        "id": "5e92VgRoYToL",
        "colab": {
          "base_uri": "https://localhost:8080/",
          "height": 206
        },
        "outputId": "d8653475-bbee-4e28-a17c-32ad35de7af6"
      },
      "source": [
        "# new = df['Time'].str.split(\":\", n = 2, expand = True)\n",
        "# df['hr_min'] = new[0] + ':' + new[1]\n",
        "# df['sort_ref'] = (new[0] + '.' + new[1]).astype(float)\n",
        "# ##df['hr_min'] = df['Time'].str[:4]\n",
        "# ##df['min'] = new[1]\n",
        "# ##df['sec'] = new[2]\n",
        "# df.head()\n",
        "datetemp = df.copy(deep=True)\n",
        "datetemp.drop('Time', axis=1, inplace = True)\n",
        "datetemp.drop('Date', axis=1, inplace = True)\n",
        "datetemp.drop('datetime_sort_ref', axis=1, inplace = True)\n",
        "datetemp.drop('S.No.', axis=1, inplace = True)\n",
        "datetemp.head()"
      ],
      "execution_count": null,
      "outputs": [
        {
          "output_type": "execute_result",
          "data": {
            "text/html": [
              "<div>\n",
              "<style scoped>\n",
              "    .dataframe tbody tr th:only-of-type {\n",
              "        vertical-align: middle;\n",
              "    }\n",
              "\n",
              "    .dataframe tbody tr th {\n",
              "        vertical-align: top;\n",
              "    }\n",
              "\n",
              "    .dataframe thead th {\n",
              "        text-align: right;\n",
              "    }\n",
              "</style>\n",
              "<table border=\"1\" class=\"dataframe\">\n",
              "  <thead>\n",
              "    <tr style=\"text-align: right;\">\n",
              "      <th></th>\n",
              "      <th>Temperature (°C)</th>\n",
              "      <th>Humidity (%)</th>\n",
              "      <th>dates</th>\n",
              "    </tr>\n",
              "  </thead>\n",
              "  <tbody>\n",
              "    <tr>\n",
              "      <th>0</th>\n",
              "      <td>26</td>\n",
              "      <td>66</td>\n",
              "      <td>2021-10-12 16:46:21</td>\n",
              "    </tr>\n",
              "    <tr>\n",
              "      <th>1</th>\n",
              "      <td>26</td>\n",
              "      <td>66</td>\n",
              "      <td>2021-10-12 16:46:30</td>\n",
              "    </tr>\n",
              "    <tr>\n",
              "      <th>2</th>\n",
              "      <td>26</td>\n",
              "      <td>66</td>\n",
              "      <td>2021-10-12 16:46:58</td>\n",
              "    </tr>\n",
              "    <tr>\n",
              "      <th>3</th>\n",
              "      <td>26</td>\n",
              "      <td>65</td>\n",
              "      <td>2021-10-12 16:47:04</td>\n",
              "    </tr>\n",
              "    <tr>\n",
              "      <th>4</th>\n",
              "      <td>26</td>\n",
              "      <td>65</td>\n",
              "      <td>2021-10-12 16:47:08</td>\n",
              "    </tr>\n",
              "  </tbody>\n",
              "</table>\n",
              "</div>"
            ],
            "text/plain": [
              "0  Temperature (°C)  Humidity (%)               dates\n",
              "0                26            66 2021-10-12 16:46:21\n",
              "1                26            66 2021-10-12 16:46:30\n",
              "2                26            66 2021-10-12 16:46:58\n",
              "3                26            65 2021-10-12 16:47:04\n",
              "4                26            65 2021-10-12 16:47:08"
            ]
          },
          "metadata": {},
          "execution_count": 230
        }
      ]
    },
    {
      "cell_type": "code",
      "metadata": {
        "id": "GaBtwxOgPu6E"
      },
      "source": [
        "#df=df.groupby('date').agg({'value':'mean'})"
      ],
      "execution_count": null,
      "outputs": []
    },
    {
      "cell_type": "code",
      "metadata": {
        "id": "xVmzfpTlYWQX",
        "colab": {
          "base_uri": "https://localhost:8080/",
          "height": 455
        },
        "outputId": "e328cb49-2b1d-4f20-f326-1af060cc3ee9"
      },
      "source": [
        "df=df.groupby('datetime_sort_ref').agg({'Temperature (°C)': 'mean', 'Humidity (%)': 'mean'})\n",
        "df"
      ],
      "execution_count": null,
      "outputs": [
        {
          "output_type": "execute_result",
          "data": {
            "text/html": [
              "<div>\n",
              "<style scoped>\n",
              "    .dataframe tbody tr th:only-of-type {\n",
              "        vertical-align: middle;\n",
              "    }\n",
              "\n",
              "    .dataframe tbody tr th {\n",
              "        vertical-align: top;\n",
              "    }\n",
              "\n",
              "    .dataframe thead th {\n",
              "        text-align: right;\n",
              "    }\n",
              "</style>\n",
              "<table border=\"1\" class=\"dataframe\">\n",
              "  <thead>\n",
              "    <tr style=\"text-align: right;\">\n",
              "      <th></th>\n",
              "      <th>Temperature (°C)</th>\n",
              "      <th>Humidity (%)</th>\n",
              "    </tr>\n",
              "    <tr>\n",
              "      <th>datetime_sort_ref</th>\n",
              "      <th></th>\n",
              "      <th></th>\n",
              "    </tr>\n",
              "  </thead>\n",
              "  <tbody>\n",
              "    <tr>\n",
              "      <th>2021101244601</th>\n",
              "      <td>26.000000</td>\n",
              "      <td>66.000000</td>\n",
              "    </tr>\n",
              "    <tr>\n",
              "      <th>2021101244701</th>\n",
              "      <td>26.181818</td>\n",
              "      <td>65.181818</td>\n",
              "    </tr>\n",
              "    <tr>\n",
              "      <th>2021101244801</th>\n",
              "      <td>27.083333</td>\n",
              "      <td>64.666667</td>\n",
              "    </tr>\n",
              "    <tr>\n",
              "      <th>2021101244901</th>\n",
              "      <td>27.363636</td>\n",
              "      <td>65.000000</td>\n",
              "    </tr>\n",
              "    <tr>\n",
              "      <th>2021101245001</th>\n",
              "      <td>27.000000</td>\n",
              "      <td>60.583333</td>\n",
              "    </tr>\n",
              "    <tr>\n",
              "      <th>...</th>\n",
              "      <td>...</td>\n",
              "      <td>...</td>\n",
              "    </tr>\n",
              "    <tr>\n",
              "      <th>20211013125502</th>\n",
              "      <td>14.000000</td>\n",
              "      <td>99.000000</td>\n",
              "    </tr>\n",
              "    <tr>\n",
              "      <th>20211013125602</th>\n",
              "      <td>14.000000</td>\n",
              "      <td>99.000000</td>\n",
              "    </tr>\n",
              "    <tr>\n",
              "      <th>20211013125702</th>\n",
              "      <td>14.000000</td>\n",
              "      <td>99.000000</td>\n",
              "    </tr>\n",
              "    <tr>\n",
              "      <th>20211013125802</th>\n",
              "      <td>14.000000</td>\n",
              "      <td>99.000000</td>\n",
              "    </tr>\n",
              "    <tr>\n",
              "      <th>20211013125902</th>\n",
              "      <td>14.000000</td>\n",
              "      <td>99.000000</td>\n",
              "    </tr>\n",
              "  </tbody>\n",
              "</table>\n",
              "<p>445 rows × 2 columns</p>\n",
              "</div>"
            ],
            "text/plain": [
              "                   Temperature (°C)  Humidity (%)\n",
              "datetime_sort_ref                                \n",
              "2021101244601             26.000000     66.000000\n",
              "2021101244701             26.181818     65.181818\n",
              "2021101244801             27.083333     64.666667\n",
              "2021101244901             27.363636     65.000000\n",
              "2021101245001             27.000000     60.583333\n",
              "...                             ...           ...\n",
              "20211013125502            14.000000     99.000000\n",
              "20211013125602            14.000000     99.000000\n",
              "20211013125702            14.000000     99.000000\n",
              "20211013125802            14.000000     99.000000\n",
              "20211013125902            14.000000     99.000000\n",
              "\n",
              "[445 rows x 2 columns]"
            ]
          },
          "metadata": {},
          "execution_count": 232
        }
      ]
    },
    {
      "cell_type": "code",
      "metadata": {
        "id": "GSn4tGscYjLF",
        "colab": {
          "base_uri": "https://localhost:8080/",
          "height": 206
        },
        "outputId": "26c88bcd-12b5-4def-b824-cbc7e2de9241"
      },
      "source": [
        "# df.sort_values(by='date_time', inplace=True)\n",
        "df.reset_index(inplace = True, drop = False)\n",
        "df.head()"
      ],
      "execution_count": null,
      "outputs": [
        {
          "output_type": "execute_result",
          "data": {
            "text/html": [
              "<div>\n",
              "<style scoped>\n",
              "    .dataframe tbody tr th:only-of-type {\n",
              "        vertical-align: middle;\n",
              "    }\n",
              "\n",
              "    .dataframe tbody tr th {\n",
              "        vertical-align: top;\n",
              "    }\n",
              "\n",
              "    .dataframe thead th {\n",
              "        text-align: right;\n",
              "    }\n",
              "</style>\n",
              "<table border=\"1\" class=\"dataframe\">\n",
              "  <thead>\n",
              "    <tr style=\"text-align: right;\">\n",
              "      <th></th>\n",
              "      <th>datetime_sort_ref</th>\n",
              "      <th>Temperature (°C)</th>\n",
              "      <th>Humidity (%)</th>\n",
              "    </tr>\n",
              "  </thead>\n",
              "  <tbody>\n",
              "    <tr>\n",
              "      <th>0</th>\n",
              "      <td>2021101244601</td>\n",
              "      <td>26.000000</td>\n",
              "      <td>66.000000</td>\n",
              "    </tr>\n",
              "    <tr>\n",
              "      <th>1</th>\n",
              "      <td>2021101244701</td>\n",
              "      <td>26.181818</td>\n",
              "      <td>65.181818</td>\n",
              "    </tr>\n",
              "    <tr>\n",
              "      <th>2</th>\n",
              "      <td>2021101244801</td>\n",
              "      <td>27.083333</td>\n",
              "      <td>64.666667</td>\n",
              "    </tr>\n",
              "    <tr>\n",
              "      <th>3</th>\n",
              "      <td>2021101244901</td>\n",
              "      <td>27.363636</td>\n",
              "      <td>65.000000</td>\n",
              "    </tr>\n",
              "    <tr>\n",
              "      <th>4</th>\n",
              "      <td>2021101245001</td>\n",
              "      <td>27.000000</td>\n",
              "      <td>60.583333</td>\n",
              "    </tr>\n",
              "  </tbody>\n",
              "</table>\n",
              "</div>"
            ],
            "text/plain": [
              "   datetime_sort_ref  Temperature (°C)  Humidity (%)\n",
              "0      2021101244601         26.000000     66.000000\n",
              "1      2021101244701         26.181818     65.181818\n",
              "2      2021101244801         27.083333     64.666667\n",
              "3      2021101244901         27.363636     65.000000\n",
              "4      2021101245001         27.000000     60.583333"
            ]
          },
          "metadata": {},
          "execution_count": 233
        }
      ]
    },
    {
      "cell_type": "code",
      "metadata": {
        "id": "ibCKI7_eYmJ4"
      },
      "source": [
        "# datetemp = df.copy(deep=True)"
      ],
      "execution_count": null,
      "outputs": []
    },
    {
      "cell_type": "code",
      "metadata": {
        "id": "51zZxpNTjoVG",
        "colab": {
          "base_uri": "https://localhost:8080/",
          "height": 206
        },
        "outputId": "dc9cb55b-385e-4302-c216-4d1d83fffa99"
      },
      "source": [
        "datetiming = df['datetime_sort_ref'].astype(str)\n",
        "year = datetiming.str[0:4]\n",
        "month = datetiming.str[4:6]\n",
        "day = datetiming.str[6:8]\n",
        "hr = datetiming.str[8:-4]\n",
        "min = datetiming.str[-4:-2]\n",
        "Z = datetiming.str[-2:]\n",
        "Z.loc[Z == '01'] = \"PM\"\n",
        "Z.loc[Z == '02'] = \"AM\"\n",
        "\n",
        "df['date_time'] = year +\"/\"+ month + \"/\" + day + \" \" + hr + \":\" + min + \" \" + Z \n",
        "df['date_time'] = pd.to_datetime(df['date_time']).astype(str).str[:-3]\n",
        "df.head()\n"
      ],
      "execution_count": null,
      "outputs": [
        {
          "output_type": "execute_result",
          "data": {
            "text/html": [
              "<div>\n",
              "<style scoped>\n",
              "    .dataframe tbody tr th:only-of-type {\n",
              "        vertical-align: middle;\n",
              "    }\n",
              "\n",
              "    .dataframe tbody tr th {\n",
              "        vertical-align: top;\n",
              "    }\n",
              "\n",
              "    .dataframe thead th {\n",
              "        text-align: right;\n",
              "    }\n",
              "</style>\n",
              "<table border=\"1\" class=\"dataframe\">\n",
              "  <thead>\n",
              "    <tr style=\"text-align: right;\">\n",
              "      <th></th>\n",
              "      <th>datetime_sort_ref</th>\n",
              "      <th>Temperature (°C)</th>\n",
              "      <th>Humidity (%)</th>\n",
              "      <th>date_time</th>\n",
              "    </tr>\n",
              "  </thead>\n",
              "  <tbody>\n",
              "    <tr>\n",
              "      <th>0</th>\n",
              "      <td>2021101244601</td>\n",
              "      <td>26.000000</td>\n",
              "      <td>66.000000</td>\n",
              "      <td>2021-10-12 16:46</td>\n",
              "    </tr>\n",
              "    <tr>\n",
              "      <th>1</th>\n",
              "      <td>2021101244701</td>\n",
              "      <td>26.181818</td>\n",
              "      <td>65.181818</td>\n",
              "      <td>2021-10-12 16:47</td>\n",
              "    </tr>\n",
              "    <tr>\n",
              "      <th>2</th>\n",
              "      <td>2021101244801</td>\n",
              "      <td>27.083333</td>\n",
              "      <td>64.666667</td>\n",
              "      <td>2021-10-12 16:48</td>\n",
              "    </tr>\n",
              "    <tr>\n",
              "      <th>3</th>\n",
              "      <td>2021101244901</td>\n",
              "      <td>27.363636</td>\n",
              "      <td>65.000000</td>\n",
              "      <td>2021-10-12 16:49</td>\n",
              "    </tr>\n",
              "    <tr>\n",
              "      <th>4</th>\n",
              "      <td>2021101245001</td>\n",
              "      <td>27.000000</td>\n",
              "      <td>60.583333</td>\n",
              "      <td>2021-10-12 16:50</td>\n",
              "    </tr>\n",
              "  </tbody>\n",
              "</table>\n",
              "</div>"
            ],
            "text/plain": [
              "   datetime_sort_ref  Temperature (°C)  Humidity (%)         date_time\n",
              "0      2021101244601         26.000000     66.000000  2021-10-12 16:46\n",
              "1      2021101244701         26.181818     65.181818  2021-10-12 16:47\n",
              "2      2021101244801         27.083333     64.666667  2021-10-12 16:48\n",
              "3      2021101244901         27.363636     65.000000  2021-10-12 16:49\n",
              "4      2021101245001         27.000000     60.583333  2021-10-12 16:50"
            ]
          },
          "metadata": {},
          "execution_count": 235
        }
      ]
    },
    {
      "cell_type": "code",
      "metadata": {
        "id": "AFlz065dOPQ2",
        "colab": {
          "base_uri": "https://localhost:8080/",
          "height": 424
        },
        "outputId": "182de742-8458-4f45-a3e6-a86d76e2d3ce"
      },
      "source": [
        "datetemp_mean = df.copy(deep=True)\n",
        "datetemp_mean.drop('datetime_sort_ref', axis=1, inplace = True)\n",
        "datetemp_mean['date_time'] = datetemp_mean['date_time']\n",
        "datetemp_mean"
      ],
      "execution_count": null,
      "outputs": [
        {
          "output_type": "execute_result",
          "data": {
            "text/html": [
              "<div>\n",
              "<style scoped>\n",
              "    .dataframe tbody tr th:only-of-type {\n",
              "        vertical-align: middle;\n",
              "    }\n",
              "\n",
              "    .dataframe tbody tr th {\n",
              "        vertical-align: top;\n",
              "    }\n",
              "\n",
              "    .dataframe thead th {\n",
              "        text-align: right;\n",
              "    }\n",
              "</style>\n",
              "<table border=\"1\" class=\"dataframe\">\n",
              "  <thead>\n",
              "    <tr style=\"text-align: right;\">\n",
              "      <th></th>\n",
              "      <th>Temperature (°C)</th>\n",
              "      <th>Humidity (%)</th>\n",
              "      <th>date_time</th>\n",
              "    </tr>\n",
              "  </thead>\n",
              "  <tbody>\n",
              "    <tr>\n",
              "      <th>0</th>\n",
              "      <td>26.000000</td>\n",
              "      <td>66.000000</td>\n",
              "      <td>2021-10-12 16:46</td>\n",
              "    </tr>\n",
              "    <tr>\n",
              "      <th>1</th>\n",
              "      <td>26.181818</td>\n",
              "      <td>65.181818</td>\n",
              "      <td>2021-10-12 16:47</td>\n",
              "    </tr>\n",
              "    <tr>\n",
              "      <th>2</th>\n",
              "      <td>27.083333</td>\n",
              "      <td>64.666667</td>\n",
              "      <td>2021-10-12 16:48</td>\n",
              "    </tr>\n",
              "    <tr>\n",
              "      <th>3</th>\n",
              "      <td>27.363636</td>\n",
              "      <td>65.000000</td>\n",
              "      <td>2021-10-12 16:49</td>\n",
              "    </tr>\n",
              "    <tr>\n",
              "      <th>4</th>\n",
              "      <td>27.000000</td>\n",
              "      <td>60.583333</td>\n",
              "      <td>2021-10-12 16:50</td>\n",
              "    </tr>\n",
              "    <tr>\n",
              "      <th>...</th>\n",
              "      <td>...</td>\n",
              "      <td>...</td>\n",
              "      <td>...</td>\n",
              "    </tr>\n",
              "    <tr>\n",
              "      <th>440</th>\n",
              "      <td>14.000000</td>\n",
              "      <td>99.000000</td>\n",
              "      <td>2021-10-13 00:55</td>\n",
              "    </tr>\n",
              "    <tr>\n",
              "      <th>441</th>\n",
              "      <td>14.000000</td>\n",
              "      <td>99.000000</td>\n",
              "      <td>2021-10-13 00:56</td>\n",
              "    </tr>\n",
              "    <tr>\n",
              "      <th>442</th>\n",
              "      <td>14.000000</td>\n",
              "      <td>99.000000</td>\n",
              "      <td>2021-10-13 00:57</td>\n",
              "    </tr>\n",
              "    <tr>\n",
              "      <th>443</th>\n",
              "      <td>14.000000</td>\n",
              "      <td>99.000000</td>\n",
              "      <td>2021-10-13 00:58</td>\n",
              "    </tr>\n",
              "    <tr>\n",
              "      <th>444</th>\n",
              "      <td>14.000000</td>\n",
              "      <td>99.000000</td>\n",
              "      <td>2021-10-13 00:59</td>\n",
              "    </tr>\n",
              "  </tbody>\n",
              "</table>\n",
              "<p>445 rows × 3 columns</p>\n",
              "</div>"
            ],
            "text/plain": [
              "     Temperature (°C)  Humidity (%)         date_time\n",
              "0           26.000000     66.000000  2021-10-12 16:46\n",
              "1           26.181818     65.181818  2021-10-12 16:47\n",
              "2           27.083333     64.666667  2021-10-12 16:48\n",
              "3           27.363636     65.000000  2021-10-12 16:49\n",
              "4           27.000000     60.583333  2021-10-12 16:50\n",
              "..                ...           ...               ...\n",
              "440         14.000000     99.000000  2021-10-13 00:55\n",
              "441         14.000000     99.000000  2021-10-13 00:56\n",
              "442         14.000000     99.000000  2021-10-13 00:57\n",
              "443         14.000000     99.000000  2021-10-13 00:58\n",
              "444         14.000000     99.000000  2021-10-13 00:59\n",
              "\n",
              "[445 rows x 3 columns]"
            ]
          },
          "metadata": {},
          "execution_count": 236
        }
      ]
    },
    {
      "cell_type": "code",
      "metadata": {
        "id": "BOw6VsqfYvQJ"
      },
      "source": [
        "df.set_index(df['date_time'],inplace = True)"
      ],
      "execution_count": null,
      "outputs": []
    },
    {
      "cell_type": "code",
      "metadata": {
        "id": "iSWBkX91Yzum",
        "colab": {
          "base_uri": "https://localhost:8080/",
          "height": 238
        },
        "outputId": "5ca1d8b1-8968-45fe-e68f-fc3e4bf21749"
      },
      "source": [
        "# df.drop('hr_min', axis=1, inplace=True)\n",
        "# df.drop('sort_ref', axis=1, inplace=True)\n",
        "df.drop('datetime_sort_ref', axis=1, inplace=True)\n",
        "df.drop('date_time', axis=1, inplace=True)\n",
        "df.head()"
      ],
      "execution_count": null,
      "outputs": [
        {
          "output_type": "execute_result",
          "data": {
            "text/html": [
              "<div>\n",
              "<style scoped>\n",
              "    .dataframe tbody tr th:only-of-type {\n",
              "        vertical-align: middle;\n",
              "    }\n",
              "\n",
              "    .dataframe tbody tr th {\n",
              "        vertical-align: top;\n",
              "    }\n",
              "\n",
              "    .dataframe thead th {\n",
              "        text-align: right;\n",
              "    }\n",
              "</style>\n",
              "<table border=\"1\" class=\"dataframe\">\n",
              "  <thead>\n",
              "    <tr style=\"text-align: right;\">\n",
              "      <th></th>\n",
              "      <th>Temperature (°C)</th>\n",
              "      <th>Humidity (%)</th>\n",
              "    </tr>\n",
              "    <tr>\n",
              "      <th>date_time</th>\n",
              "      <th></th>\n",
              "      <th></th>\n",
              "    </tr>\n",
              "  </thead>\n",
              "  <tbody>\n",
              "    <tr>\n",
              "      <th>2021-10-12 16:46</th>\n",
              "      <td>26.000000</td>\n",
              "      <td>66.000000</td>\n",
              "    </tr>\n",
              "    <tr>\n",
              "      <th>2021-10-12 16:47</th>\n",
              "      <td>26.181818</td>\n",
              "      <td>65.181818</td>\n",
              "    </tr>\n",
              "    <tr>\n",
              "      <th>2021-10-12 16:48</th>\n",
              "      <td>27.083333</td>\n",
              "      <td>64.666667</td>\n",
              "    </tr>\n",
              "    <tr>\n",
              "      <th>2021-10-12 16:49</th>\n",
              "      <td>27.363636</td>\n",
              "      <td>65.000000</td>\n",
              "    </tr>\n",
              "    <tr>\n",
              "      <th>2021-10-12 16:50</th>\n",
              "      <td>27.000000</td>\n",
              "      <td>60.583333</td>\n",
              "    </tr>\n",
              "  </tbody>\n",
              "</table>\n",
              "</div>"
            ],
            "text/plain": [
              "                  Temperature (°C)  Humidity (%)\n",
              "date_time                                       \n",
              "2021-10-12 16:46         26.000000     66.000000\n",
              "2021-10-12 16:47         26.181818     65.181818\n",
              "2021-10-12 16:48         27.083333     64.666667\n",
              "2021-10-12 16:49         27.363636     65.000000\n",
              "2021-10-12 16:50         27.000000     60.583333"
            ]
          },
          "metadata": {},
          "execution_count": 238
        }
      ]
    },
    {
      "cell_type": "code",
      "metadata": {
        "id": "WR32zoALY2gb",
        "colab": {
          "base_uri": "https://localhost:8080/"
        },
        "outputId": "48a2df0f-b411-4407-c8fc-3a1600f206f2"
      },
      "source": [
        "df.info()"
      ],
      "execution_count": null,
      "outputs": [
        {
          "output_type": "stream",
          "name": "stdout",
          "text": [
            "<class 'pandas.core.frame.DataFrame'>\n",
            "Index: 445 entries, 2021-10-12 16:46 to 2021-10-13 00:59\n",
            "Data columns (total 2 columns):\n",
            " #   Column            Non-Null Count  Dtype  \n",
            "---  ------            --------------  -----  \n",
            " 0   Temperature (°C)  445 non-null    float64\n",
            " 1   Humidity (%)      445 non-null    float64\n",
            "dtypes: float64(2)\n",
            "memory usage: 10.4+ KB\n"
          ]
        }
      ]
    },
    {
      "cell_type": "code",
      "metadata": {
        "id": "BtUEuO0cY4cA",
        "colab": {
          "base_uri": "https://localhost:8080/",
          "height": 300
        },
        "outputId": "44bff901-38c4-4272-ae6b-6611bd425434"
      },
      "source": [
        "df.describe()"
      ],
      "execution_count": null,
      "outputs": [
        {
          "output_type": "execute_result",
          "data": {
            "text/html": [
              "<div>\n",
              "<style scoped>\n",
              "    .dataframe tbody tr th:only-of-type {\n",
              "        vertical-align: middle;\n",
              "    }\n",
              "\n",
              "    .dataframe tbody tr th {\n",
              "        vertical-align: top;\n",
              "    }\n",
              "\n",
              "    .dataframe thead th {\n",
              "        text-align: right;\n",
              "    }\n",
              "</style>\n",
              "<table border=\"1\" class=\"dataframe\">\n",
              "  <thead>\n",
              "    <tr style=\"text-align: right;\">\n",
              "      <th></th>\n",
              "      <th>Temperature (°C)</th>\n",
              "      <th>Humidity (%)</th>\n",
              "    </tr>\n",
              "  </thead>\n",
              "  <tbody>\n",
              "    <tr>\n",
              "      <th>count</th>\n",
              "      <td>445.000000</td>\n",
              "      <td>445.000000</td>\n",
              "    </tr>\n",
              "    <tr>\n",
              "      <th>mean</th>\n",
              "      <td>16.234199</td>\n",
              "      <td>92.740753</td>\n",
              "    </tr>\n",
              "    <tr>\n",
              "      <th>std</th>\n",
              "      <td>2.939894</td>\n",
              "      <td>10.194638</td>\n",
              "    </tr>\n",
              "    <tr>\n",
              "      <th>min</th>\n",
              "      <td>14.000000</td>\n",
              "      <td>45.200000</td>\n",
              "    </tr>\n",
              "    <tr>\n",
              "      <th>25%</th>\n",
              "      <td>15.000000</td>\n",
              "      <td>92.000000</td>\n",
              "    </tr>\n",
              "    <tr>\n",
              "      <th>50%</th>\n",
              "      <td>15.000000</td>\n",
              "      <td>96.285714</td>\n",
              "    </tr>\n",
              "    <tr>\n",
              "      <th>75%</th>\n",
              "      <td>17.000000</td>\n",
              "      <td>98.000000</td>\n",
              "    </tr>\n",
              "    <tr>\n",
              "      <th>max</th>\n",
              "      <td>32.000000</td>\n",
              "      <td>99.000000</td>\n",
              "    </tr>\n",
              "  </tbody>\n",
              "</table>\n",
              "</div>"
            ],
            "text/plain": [
              "       Temperature (°C)  Humidity (%)\n",
              "count        445.000000    445.000000\n",
              "mean          16.234199     92.740753\n",
              "std            2.939894     10.194638\n",
              "min           14.000000     45.200000\n",
              "25%           15.000000     92.000000\n",
              "50%           15.000000     96.285714\n",
              "75%           17.000000     98.000000\n",
              "max           32.000000     99.000000"
            ]
          },
          "metadata": {},
          "execution_count": 240
        }
      ]
    },
    {
      "cell_type": "code",
      "metadata": {
        "id": "-pe_pynBZBzJ",
        "colab": {
          "base_uri": "https://localhost:8080/",
          "height": 297
        },
        "outputId": "f76aad47-5c9c-4f53-f589-5b8a04e94780"
      },
      "source": [
        "df.plot(grid=True)"
      ],
      "execution_count": null,
      "outputs": [
        {
          "output_type": "execute_result",
          "data": {
            "text/plain": [
              "<matplotlib.axes._subplots.AxesSubplot at 0x7fb0e519e150>"
            ]
          },
          "metadata": {},
          "execution_count": 241
        },
        {
          "output_type": "display_data",
          "data": {
            "image/png": "[encoded data removed]",
            "text/plain": [
              "<Figure size 432x288 with 1 Axes>"
            ]
          },
          "metadata": {
            "needs_background": "light"
          }
        }
      ]
    },
    {
      "cell_type": "code",
      "metadata": {
        "id": "U5rWUxSYemAP",
        "colab": {
          "base_uri": "https://localhost:8080/",
          "height": 238
        },
        "outputId": "094f6582-5ccd-4063-8c8b-0a78022e9563"
      },
      "source": [
        "df.head()"
      ],
      "execution_count": null,
      "outputs": [
        {
          "output_type": "execute_result",
          "data": {
            "text/html": [
              "<div>\n",
              "<style scoped>\n",
              "    .dataframe tbody tr th:only-of-type {\n",
              "        vertical-align: middle;\n",
              "    }\n",
              "\n",
              "    .dataframe tbody tr th {\n",
              "        vertical-align: top;\n",
              "    }\n",
              "\n",
              "    .dataframe thead th {\n",
              "        text-align: right;\n",
              "    }\n",
              "</style>\n",
              "<table border=\"1\" class=\"dataframe\">\n",
              "  <thead>\n",
              "    <tr style=\"text-align: right;\">\n",
              "      <th></th>\n",
              "      <th>Temperature (°C)</th>\n",
              "      <th>Humidity (%)</th>\n",
              "    </tr>\n",
              "    <tr>\n",
              "      <th>date_time</th>\n",
              "      <th></th>\n",
              "      <th></th>\n",
              "    </tr>\n",
              "  </thead>\n",
              "  <tbody>\n",
              "    <tr>\n",
              "      <th>2021-10-12 16:46</th>\n",
              "      <td>26.000000</td>\n",
              "      <td>66.000000</td>\n",
              "    </tr>\n",
              "    <tr>\n",
              "      <th>2021-10-12 16:47</th>\n",
              "      <td>26.181818</td>\n",
              "      <td>65.181818</td>\n",
              "    </tr>\n",
              "    <tr>\n",
              "      <th>2021-10-12 16:48</th>\n",
              "      <td>27.083333</td>\n",
              "      <td>64.666667</td>\n",
              "    </tr>\n",
              "    <tr>\n",
              "      <th>2021-10-12 16:49</th>\n",
              "      <td>27.363636</td>\n",
              "      <td>65.000000</td>\n",
              "    </tr>\n",
              "    <tr>\n",
              "      <th>2021-10-12 16:50</th>\n",
              "      <td>27.000000</td>\n",
              "      <td>60.583333</td>\n",
              "    </tr>\n",
              "  </tbody>\n",
              "</table>\n",
              "</div>"
            ],
            "text/plain": [
              "                  Temperature (°C)  Humidity (%)\n",
              "date_time                                       \n",
              "2021-10-12 16:46         26.000000     66.000000\n",
              "2021-10-12 16:47         26.181818     65.181818\n",
              "2021-10-12 16:48         27.083333     64.666667\n",
              "2021-10-12 16:49         27.363636     65.000000\n",
              "2021-10-12 16:50         27.000000     60.583333"
            ]
          },
          "metadata": {},
          "execution_count": 242
        }
      ]
    },
    {
      "cell_type": "code",
      "metadata": {
        "id": "eD23Wvx3ZGTr"
      },
      "source": [
        "df.to_csv('/content/drive/MyDrive/Colab Notebooks/iotespml_save.csv')"
      ],
      "execution_count": null,
      "outputs": []
    },
    {
      "cell_type": "markdown",
      "metadata": {
        "id": "besXefeSjb4F"
      },
      "source": [
        "# ***Graph of data after transformation***"
      ]
    },
    {
      "cell_type": "code",
      "metadata": {
        "id": "wp_gJW1EZMkk",
        "colab": {
          "base_uri": "https://localhost:8080/",
          "height": 265
        },
        "outputId": "3774d192-bc6e-4464-b607-156258fc0066"
      },
      "source": [
        "#from pandas import pd\n",
        "from matplotlib import pyplot\n",
        "series = pd.read_csv('/content/drive/MyDrive/Colab Notebooks/iotespml_save.csv',header=0)\n",
        "series.plot(style=['red', 'green'], legend = True, grid = True)\n",
        "pyplot.show()"
      ],
      "execution_count": null,
      "outputs": [
        {
          "output_type": "display_data",
          "data": {
            "image/png": "[encoded data removed]",
            "text/plain": [
              "<Figure size 432x288 with 1 Axes>"
            ]
          },
          "metadata": {
            "needs_background": "light"
          }
        }
      ]
    },
    {
      "cell_type": "code",
      "metadata": {
        "id": "oACuas_7ZPeA",
        "colab": {
          "base_uri": "https://localhost:8080/",
          "height": 206
        },
        "outputId": "9c5a2100-c57c-4bc3-e30f-872af2a40c27"
      },
      "source": [
        "df.reset_index(inplace=True)\n",
        "df.head()"
      ],
      "execution_count": null,
      "outputs": [
        {
          "output_type": "execute_result",
          "data": {
            "text/html": [
              "<div>\n",
              "<style scoped>\n",
              "    .dataframe tbody tr th:only-of-type {\n",
              "        vertical-align: middle;\n",
              "    }\n",
              "\n",
              "    .dataframe tbody tr th {\n",
              "        vertical-align: top;\n",
              "    }\n",
              "\n",
              "    .dataframe thead th {\n",
              "        text-align: right;\n",
              "    }\n",
              "</style>\n",
              "<table border=\"1\" class=\"dataframe\">\n",
              "  <thead>\n",
              "    <tr style=\"text-align: right;\">\n",
              "      <th></th>\n",
              "      <th>date_time</th>\n",
              "      <th>Temperature (°C)</th>\n",
              "      <th>Humidity (%)</th>\n",
              "    </tr>\n",
              "  </thead>\n",
              "  <tbody>\n",
              "    <tr>\n",
              "      <th>0</th>\n",
              "      <td>2021-10-12 16:46</td>\n",
              "      <td>26.000000</td>\n",
              "      <td>66.000000</td>\n",
              "    </tr>\n",
              "    <tr>\n",
              "      <th>1</th>\n",
              "      <td>2021-10-12 16:47</td>\n",
              "      <td>26.181818</td>\n",
              "      <td>65.181818</td>\n",
              "    </tr>\n",
              "    <tr>\n",
              "      <th>2</th>\n",
              "      <td>2021-10-12 16:48</td>\n",
              "      <td>27.083333</td>\n",
              "      <td>64.666667</td>\n",
              "    </tr>\n",
              "    <tr>\n",
              "      <th>3</th>\n",
              "      <td>2021-10-12 16:49</td>\n",
              "      <td>27.363636</td>\n",
              "      <td>65.000000</td>\n",
              "    </tr>\n",
              "    <tr>\n",
              "      <th>4</th>\n",
              "      <td>2021-10-12 16:50</td>\n",
              "      <td>27.000000</td>\n",
              "      <td>60.583333</td>\n",
              "    </tr>\n",
              "  </tbody>\n",
              "</table>\n",
              "</div>"
            ],
            "text/plain": [
              "          date_time  Temperature (°C)  Humidity (%)\n",
              "0  2021-10-12 16:46         26.000000     66.000000\n",
              "1  2021-10-12 16:47         26.181818     65.181818\n",
              "2  2021-10-12 16:48         27.083333     64.666667\n",
              "3  2021-10-12 16:49         27.363636     65.000000\n",
              "4  2021-10-12 16:50         27.000000     60.583333"
            ]
          },
          "metadata": {},
          "execution_count": 245
        }
      ]
    },
    {
      "cell_type": "code",
      "metadata": {
        "id": "Hr0rrtzIRhCl",
        "colab": {
          "base_uri": "https://localhost:8080/",
          "height": 424
        },
        "outputId": "aa371882-c393-4cdb-db51-e70fa551f8aa"
      },
      "source": [
        "df['Year'] = pd.to_datetime(df['date_time']).dt.year\n",
        "df['Month'] = pd.to_datetime(df['date_time']).dt.month\n",
        "df['Day'] = pd.to_datetime(df['date_time']).dt.day\n",
        "df['Hr'] = pd.to_datetime(df['date_time']).dt.hour\n",
        "df['Min'] = pd.to_datetime(df['date_time']).dt.minute\n",
        "df"
      ],
      "execution_count": null,
      "outputs": [
        {
          "output_type": "execute_result",
          "data": {
            "text/html": [
              "<div>\n",
              "<style scoped>\n",
              "    .dataframe tbody tr th:only-of-type {\n",
              "        vertical-align: middle;\n",
              "    }\n",
              "\n",
              "    .dataframe tbody tr th {\n",
              "        vertical-align: top;\n",
              "    }\n",
              "\n",
              "    .dataframe thead th {\n",
              "        text-align: right;\n",
              "    }\n",
              "</style>\n",
              "<table border=\"1\" class=\"dataframe\">\n",
              "  <thead>\n",
              "    <tr style=\"text-align: right;\">\n",
              "      <th></th>\n",
              "      <th>date_time</th>\n",
              "      <th>Temperature (°C)</th>\n",
              "      <th>Humidity (%)</th>\n",
              "      <th>Year</th>\n",
              "      <th>Month</th>\n",
              "      <th>Day</th>\n",
              "      <th>Hr</th>\n",
              "      <th>Min</th>\n",
              "    </tr>\n",
              "  </thead>\n",
              "  <tbody>\n",
              "    <tr>\n",
              "      <th>0</th>\n",
              "      <td>2021-10-12 16:46</td>\n",
              "      <td>26.000000</td>\n",
              "      <td>66.000000</td>\n",
              "      <td>2021</td>\n",
              "      <td>10</td>\n",
              "      <td>12</td>\n",
              "      <td>16</td>\n",
              "      <td>46</td>\n",
              "    </tr>\n",
              "    <tr>\n",
              "      <th>1</th>\n",
              "      <td>2021-10-12 16:47</td>\n",
              "      <td>26.181818</td>\n",
              "      <td>65.181818</td>\n",
              "      <td>2021</td>\n",
              "      <td>10</td>\n",
              "      <td>12</td>\n",
              "      <td>16</td>\n",
              "      <td>47</td>\n",
              "    </tr>\n",
              "    <tr>\n",
              "      <th>2</th>\n",
              "      <td>2021-10-12 16:48</td>\n",
              "      <td>27.083333</td>\n",
              "      <td>64.666667</td>\n",
              "      <td>2021</td>\n",
              "      <td>10</td>\n",
              "      <td>12</td>\n",
              "      <td>16</td>\n",
              "      <td>48</td>\n",
              "    </tr>\n",
              "    <tr>\n",
              "      <th>3</th>\n",
              "      <td>2021-10-12 16:49</td>\n",
              "      <td>27.363636</td>\n",
              "      <td>65.000000</td>\n",
              "      <td>2021</td>\n",
              "      <td>10</td>\n",
              "      <td>12</td>\n",
              "      <td>16</td>\n",
              "      <td>49</td>\n",
              "    </tr>\n",
              "    <tr>\n",
              "      <th>4</th>\n",
              "      <td>2021-10-12 16:50</td>\n",
              "      <td>27.000000</td>\n",
              "      <td>60.583333</td>\n",
              "      <td>2021</td>\n",
              "      <td>10</td>\n",
              "      <td>12</td>\n",
              "      <td>16</td>\n",
              "      <td>50</td>\n",
              "    </tr>\n",
              "    <tr>\n",
              "      <th>...</th>\n",
              "      <td>...</td>\n",
              "      <td>...</td>\n",
              "      <td>...</td>\n",
              "      <td>...</td>\n",
              "      <td>...</td>\n",
              "      <td>...</td>\n",
              "      <td>...</td>\n",
              "      <td>...</td>\n",
              "    </tr>\n",
              "    <tr>\n",
              "      <th>440</th>\n",
              "      <td>2021-10-13 00:55</td>\n",
              "      <td>14.000000</td>\n",
              "      <td>99.000000</td>\n",
              "      <td>2021</td>\n",
              "      <td>10</td>\n",
              "      <td>13</td>\n",
              "      <td>0</td>\n",
              "      <td>55</td>\n",
              "    </tr>\n",
              "    <tr>\n",
              "      <th>441</th>\n",
              "      <td>2021-10-13 00:56</td>\n",
              "      <td>14.000000</td>\n",
              "      <td>99.000000</td>\n",
              "      <td>2021</td>\n",
              "      <td>10</td>\n",
              "      <td>13</td>\n",
              "      <td>0</td>\n",
              "      <td>56</td>\n",
              "    </tr>\n",
              "    <tr>\n",
              "      <th>442</th>\n",
              "      <td>2021-10-13 00:57</td>\n",
              "      <td>14.000000</td>\n",
              "      <td>99.000000</td>\n",
              "      <td>2021</td>\n",
              "      <td>10</td>\n",
              "      <td>13</td>\n",
              "      <td>0</td>\n",
              "      <td>57</td>\n",
              "    </tr>\n",
              "    <tr>\n",
              "      <th>443</th>\n",
              "      <td>2021-10-13 00:58</td>\n",
              "      <td>14.000000</td>\n",
              "      <td>99.000000</td>\n",
              "      <td>2021</td>\n",
              "      <td>10</td>\n",
              "      <td>13</td>\n",
              "      <td>0</td>\n",
              "      <td>58</td>\n",
              "    </tr>\n",
              "    <tr>\n",
              "      <th>444</th>\n",
              "      <td>2021-10-13 00:59</td>\n",
              "      <td>14.000000</td>\n",
              "      <td>99.000000</td>\n",
              "      <td>2021</td>\n",
              "      <td>10</td>\n",
              "      <td>13</td>\n",
              "      <td>0</td>\n",
              "      <td>59</td>\n",
              "    </tr>\n",
              "  </tbody>\n",
              "</table>\n",
              "<p>445 rows × 8 columns</p>\n",
              "</div>"
            ],
            "text/plain": [
              "            date_time  Temperature (°C)  Humidity (%)  ...  Day  Hr  Min\n",
              "0    2021-10-12 16:46         26.000000     66.000000  ...   12  16   46\n",
              "1    2021-10-12 16:47         26.181818     65.181818  ...   12  16   47\n",
              "2    2021-10-12 16:48         27.083333     64.666667  ...   12  16   48\n",
              "3    2021-10-12 16:49         27.363636     65.000000  ...   12  16   49\n",
              "4    2021-10-12 16:50         27.000000     60.583333  ...   12  16   50\n",
              "..                ...               ...           ...  ...  ...  ..  ...\n",
              "440  2021-10-13 00:55         14.000000     99.000000  ...   13   0   55\n",
              "441  2021-10-13 00:56         14.000000     99.000000  ...   13   0   56\n",
              "442  2021-10-13 00:57         14.000000     99.000000  ...   13   0   57\n",
              "443  2021-10-13 00:58         14.000000     99.000000  ...   13   0   58\n",
              "444  2021-10-13 00:59         14.000000     99.000000  ...   13   0   59\n",
              "\n",
              "[445 rows x 8 columns]"
            ]
          },
          "metadata": {},
          "execution_count": 246
        }
      ]
    },
    {
      "cell_type": "code",
      "metadata": {
        "id": "thsgEQ1ntVUe"
      },
      "source": [
        "# df['year'] = pd.to_datetime(df['date']).dt.year\n",
        "# df['month'] = pd.to_datetime(df['date']).dt.month\n",
        "# df['day'] = pd.to_datetime(df['date']).dt.day\n",
        "df.drop('date_time', axis = 1, inplace = True)"
      ],
      "execution_count": null,
      "outputs": []
    },
    {
      "cell_type": "code",
      "metadata": {
        "id": "z6pdTyQHtZR0",
        "colab": {
          "base_uri": "https://localhost:8080/",
          "height": 424
        },
        "outputId": "405fa722-fe06-4dca-c3ae-c1042c616999"
      },
      "source": [
        "df = df[['Year', 'Month', 'Day', 'Hr', 'Min', 'Temperature (°C)',\t'Humidity (%)']]\n",
        "df"
      ],
      "execution_count": null,
      "outputs": [
        {
          "output_type": "execute_result",
          "data": {
            "text/html": [
              "<div>\n",
              "<style scoped>\n",
              "    .dataframe tbody tr th:only-of-type {\n",
              "        vertical-align: middle;\n",
              "    }\n",
              "\n",
              "    .dataframe tbody tr th {\n",
              "        vertical-align: top;\n",
              "    }\n",
              "\n",
              "    .dataframe thead th {\n",
              "        text-align: right;\n",
              "    }\n",
              "</style>\n",
              "<table border=\"1\" class=\"dataframe\">\n",
              "  <thead>\n",
              "    <tr style=\"text-align: right;\">\n",
              "      <th></th>\n",
              "      <th>Year</th>\n",
              "      <th>Month</th>\n",
              "      <th>Day</th>\n",
              "      <th>Hr</th>\n",
              "      <th>Min</th>\n",
              "      <th>Temperature (°C)</th>\n",
              "      <th>Humidity (%)</th>\n",
              "    </tr>\n",
              "  </thead>\n",
              "  <tbody>\n",
              "    <tr>\n",
              "      <th>0</th>\n",
              "      <td>2021</td>\n",
              "      <td>10</td>\n",
              "      <td>12</td>\n",
              "      <td>16</td>\n",
              "      <td>46</td>\n",
              "      <td>26.000000</td>\n",
              "      <td>66.000000</td>\n",
              "    </tr>\n",
              "    <tr>\n",
              "      <th>1</th>\n",
              "      <td>2021</td>\n",
              "      <td>10</td>\n",
              "      <td>12</td>\n",
              "      <td>16</td>\n",
              "      <td>47</td>\n",
              "      <td>26.181818</td>\n",
              "      <td>65.181818</td>\n",
              "    </tr>\n",
              "    <tr>\n",
              "      <th>2</th>\n",
              "      <td>2021</td>\n",
              "      <td>10</td>\n",
              "      <td>12</td>\n",
              "      <td>16</td>\n",
              "      <td>48</td>\n",
              "      <td>27.083333</td>\n",
              "      <td>64.666667</td>\n",
              "    </tr>\n",
              "    <tr>\n",
              "      <th>3</th>\n",
              "      <td>2021</td>\n",
              "      <td>10</td>\n",
              "      <td>12</td>\n",
              "      <td>16</td>\n",
              "      <td>49</td>\n",
              "      <td>27.363636</td>\n",
              "      <td>65.000000</td>\n",
              "    </tr>\n",
              "    <tr>\n",
              "      <th>4</th>\n",
              "      <td>2021</td>\n",
              "      <td>10</td>\n",
              "      <td>12</td>\n",
              "      <td>16</td>\n",
              "      <td>50</td>\n",
              "      <td>27.000000</td>\n",
              "      <td>60.583333</td>\n",
              "    </tr>\n",
              "    <tr>\n",
              "      <th>...</th>\n",
              "      <td>...</td>\n",
              "      <td>...</td>\n",
              "      <td>...</td>\n",
              "      <td>...</td>\n",
              "      <td>...</td>\n",
              "      <td>...</td>\n",
              "      <td>...</td>\n",
              "    </tr>\n",
              "    <tr>\n",
              "      <th>440</th>\n",
              "      <td>2021</td>\n",
              "      <td>10</td>\n",
              "      <td>13</td>\n",
              "      <td>0</td>\n",
              "      <td>55</td>\n",
              "      <td>14.000000</td>\n",
              "      <td>99.000000</td>\n",
              "    </tr>\n",
              "    <tr>\n",
              "      <th>441</th>\n",
              "      <td>2021</td>\n",
              "      <td>10</td>\n",
              "      <td>13</td>\n",
              "      <td>0</td>\n",
              "      <td>56</td>\n",
              "      <td>14.000000</td>\n",
              "      <td>99.000000</td>\n",
              "    </tr>\n",
              "    <tr>\n",
              "      <th>442</th>\n",
              "      <td>2021</td>\n",
              "      <td>10</td>\n",
              "      <td>13</td>\n",
              "      <td>0</td>\n",
              "      <td>57</td>\n",
              "      <td>14.000000</td>\n",
              "      <td>99.000000</td>\n",
              "    </tr>\n",
              "    <tr>\n",
              "      <th>443</th>\n",
              "      <td>2021</td>\n",
              "      <td>10</td>\n",
              "      <td>13</td>\n",
              "      <td>0</td>\n",
              "      <td>58</td>\n",
              "      <td>14.000000</td>\n",
              "      <td>99.000000</td>\n",
              "    </tr>\n",
              "    <tr>\n",
              "      <th>444</th>\n",
              "      <td>2021</td>\n",
              "      <td>10</td>\n",
              "      <td>13</td>\n",
              "      <td>0</td>\n",
              "      <td>59</td>\n",
              "      <td>14.000000</td>\n",
              "      <td>99.000000</td>\n",
              "    </tr>\n",
              "  </tbody>\n",
              "</table>\n",
              "<p>445 rows × 7 columns</p>\n",
              "</div>"
            ],
            "text/plain": [
              "     Year  Month  Day  Hr  Min  Temperature (°C)  Humidity (%)\n",
              "0    2021     10   12  16   46         26.000000     66.000000\n",
              "1    2021     10   12  16   47         26.181818     65.181818\n",
              "2    2021     10   12  16   48         27.083333     64.666667\n",
              "3    2021     10   12  16   49         27.363636     65.000000\n",
              "4    2021     10   12  16   50         27.000000     60.583333\n",
              "..    ...    ...  ...  ..  ...               ...           ...\n",
              "440  2021     10   13   0   55         14.000000     99.000000\n",
              "441  2021     10   13   0   56         14.000000     99.000000\n",
              "442  2021     10   13   0   57         14.000000     99.000000\n",
              "443  2021     10   13   0   58         14.000000     99.000000\n",
              "444  2021     10   13   0   59         14.000000     99.000000\n",
              "\n",
              "[445 rows x 7 columns]"
            ]
          },
          "metadata": {},
          "execution_count": 248
        }
      ]
    },
    {
      "cell_type": "code",
      "metadata": {
        "id": "aMO95_qXta9f"
      },
      "source": [
        "target = np.array(df[['Temperature (°C)',\t'Humidity (%)']])\n",
        "\n",
        "df.drop(['Temperature (°C)',\t'Humidity (%)'], axis = 1, inplace = True)\n",
        "feature_list = list(target)\n",
        "features = np.array(df)"
      ],
      "execution_count": null,
      "outputs": []
    },
    {
      "cell_type": "markdown",
      "metadata": {
        "id": "WKH6miG_jsm_"
      },
      "source": [
        "# ***Initiate the Learning***"
      ]
    },
    {
      "cell_type": "code",
      "metadata": {
        "id": "5UYWkOzntxCs"
      },
      "source": [
        "from sklearn.model_selection import train_test_split\n",
        "\n",
        "train_features, test_features, train_labels, test_labels = train_test_split(features, target, test_size = 0.25, random_state=42)\n"
      ],
      "execution_count": null,
      "outputs": []
    },
    {
      "cell_type": "code",
      "metadata": {
        "id": "aznI307FdcDM",
        "colab": {
          "base_uri": "https://localhost:8080/"
        },
        "outputId": "b90a3df6-2b13-470e-da75-6424288cc1e1"
      },
      "source": [
        "print('Training features shape', train_features.shape)\n",
        "\n",
        "print('Training labels shape', train_labels.shape)\n",
        "\n",
        "print('Testing features shape', test_features.shape)\n",
        "\n",
        "print('Training labels shape', test_labels.shape)\n"
      ],
      "execution_count": null,
      "outputs": [
        {
          "output_type": "stream",
          "name": "stdout",
          "text": [
            "Training features shape (333, 5)\n",
            "Training labels shape (333, 2)\n",
            "Testing features shape (112, 5)\n",
            "Training labels shape (112, 2)\n"
          ]
        }
      ]
    },
    {
      "cell_type": "code",
      "metadata": {
        "id": "pTuEC_4adfOm",
        "colab": {
          "base_uri": "https://localhost:8080/"
        },
        "outputId": "82c5c36f-74d3-4dfc-c6f3-ca4e9206996d"
      },
      "source": [
        "from sklearn.ensemble import RandomForestRegressor\n",
        "\n",
        "rf = RandomForestRegressor(n_estimators = 1000)\n",
        "\n",
        "rf.fit(train_features, train_labels)"
      ],
      "execution_count": null,
      "outputs": [
        {
          "output_type": "execute_result",
          "data": {
            "text/plain": [
              "RandomForestRegressor(n_estimators=1000)"
            ]
          },
          "metadata": {},
          "execution_count": 252
        }
      ]
    },
    {
      "cell_type": "markdown",
      "metadata": {
        "id": "HBHbKMtskJzS"
      },
      "source": [
        "## **Check Accuracy**"
      ]
    },
    {
      "cell_type": "code",
      "metadata": {
        "id": "JrHzeLY2t_Re",
        "colab": {
          "base_uri": "https://localhost:8080/"
        },
        "outputId": "731bdad1-94b4-4510-c064-15e958e71da3"
      },
      "source": [
        "prediction = rf.predict(test_features)\n",
        "\n",
        "errors = abs(prediction - test_labels)\n",
        "\n",
        "print('Mean Absolute Error', round(np.mean(errors),2), 'degress.')\n",
        "\n",
        "mape = 100*(errors/test_labels)\n",
        "\n",
        "accuracy = 100 - np.mean(mape)\n",
        "print('Accuracy: ', round(accuracy,2), '%.')\n",
        "\n",
        "\n",
        "a = [np.array([2021,12,i,12,24]) for i in range(15,25)]\n",
        "arr = rf.predict(a)\n",
        "\n"
      ],
      "execution_count": null,
      "outputs": [
        {
          "output_type": "stream",
          "name": "stdout",
          "text": [
            "Mean Absolute Error 0.23 degress.\n",
            "Accuracy:  99.56 %.\n"
          ]
        }
      ]
    },
    {
      "cell_type": "markdown",
      "metadata": {
        "id": "2xchvZjEj5-4"
      },
      "source": [
        "## **Prediction**"
      ]
    },
    {
      "cell_type": "code",
      "metadata": {
        "id": "QQSM7QNWWt4i",
        "colab": {
          "base_uri": "https://localhost:8080/"
        },
        "outputId": "aeed8afe-e356-4527-9971-4409cfc92d39"
      },
      "source": [
        "print('    Date           Time       Temperature    Humidity')\n",
        "for i in range(len(a)):  \n",
        "  print(a[i][0],'/',a[i][1],'/',a[i][2], ' ', a[i][3], ':', a[i][4], ' --> ', round(arr[i][0],2), '°F       ', round(arr[i][1]), '%')"
      ],
      "execution_count": null,
      "outputs": [
        {
          "output_type": "stream",
          "name": "stdout",
          "text": [
            "    Date           Time       Temperature    Humidity\n",
            "2021 / 12 / 15   12 : 24  -->  30.99 °F        49 %\n",
            "2021 / 12 / 16   12 : 24  -->  30.99 °F        49 %\n",
            "2021 / 12 / 17   12 : 24  -->  30.99 °F        49 %\n",
            "2021 / 12 / 18   12 : 24  -->  30.99 °F        49 %\n",
            "2021 / 12 / 19   12 : 24  -->  30.99 °F        49 %\n",
            "2021 / 12 / 20   12 : 24  -->  30.99 °F        49 %\n",
            "2021 / 12 / 21   12 : 24  -->  30.99 °F        49 %\n",
            "2021 / 12 / 22   12 : 24  -->  30.99 °F        49 %\n",
            "2021 / 12 / 23   12 : 24  -->  30.99 °F        49 %\n",
            "2021 / 12 / 24   12 : 24  -->  30.99 °F        49 %\n"
          ]
        }
      ]
    },
    {
      "cell_type": "markdown",
      "metadata": {
        "id": "WZSIwt_7j-3z"
      },
      "source": [
        "## **Call anvil Web-app**"
      ]
    },
    {
      "cell_type": "code",
      "metadata": {
        "id": "wobYKwbassJ9"
      },
      "source": [
        "@anvil.server.callable\n",
        "def predict_iris(year, month, day, hour, minute):\n",
        "  pred = rf.predict(np.array([year, month, day, hour, minute]).reshape(1,5))\n",
        "  return round(pred[0][0],2), round(pred[0][1], 2)"
      ],
      "execution_count": null,
      "outputs": []
    },
    {
      "cell_type": "code",
      "metadata": {
        "id": "rzZiO1_gcwWZ",
        "colab": {
          "base_uri": "https://localhost:8080/",
          "height": 206
        },
        "outputId": "aeb7cbd1-1b7c-4ee0-bc50-75cdd74be2d7"
      },
      "source": [
        "datetemp_mean.head()"
      ],
      "execution_count": null,
      "outputs": [
        {
          "output_type": "execute_result",
          "data": {
            "text/html": [
              "<div>\n",
              "<style scoped>\n",
              "    .dataframe tbody tr th:only-of-type {\n",
              "        vertical-align: middle;\n",
              "    }\n",
              "\n",
              "    .dataframe tbody tr th {\n",
              "        vertical-align: top;\n",
              "    }\n",
              "\n",
              "    .dataframe thead th {\n",
              "        text-align: right;\n",
              "    }\n",
              "</style>\n",
              "<table border=\"1\" class=\"dataframe\">\n",
              "  <thead>\n",
              "    <tr style=\"text-align: right;\">\n",
              "      <th></th>\n",
              "      <th>Temperature (°C)</th>\n",
              "      <th>Humidity (%)</th>\n",
              "      <th>date_time</th>\n",
              "    </tr>\n",
              "  </thead>\n",
              "  <tbody>\n",
              "    <tr>\n",
              "      <th>0</th>\n",
              "      <td>26.000000</td>\n",
              "      <td>66.000000</td>\n",
              "      <td>2021-10-12 16:46</td>\n",
              "    </tr>\n",
              "    <tr>\n",
              "      <th>1</th>\n",
              "      <td>26.181818</td>\n",
              "      <td>65.181818</td>\n",
              "      <td>2021-10-12 16:47</td>\n",
              "    </tr>\n",
              "    <tr>\n",
              "      <th>2</th>\n",
              "      <td>27.083333</td>\n",
              "      <td>64.666667</td>\n",
              "      <td>2021-10-12 16:48</td>\n",
              "    </tr>\n",
              "    <tr>\n",
              "      <th>3</th>\n",
              "      <td>27.363636</td>\n",
              "      <td>65.000000</td>\n",
              "      <td>2021-10-12 16:49</td>\n",
              "    </tr>\n",
              "    <tr>\n",
              "      <th>4</th>\n",
              "      <td>27.000000</td>\n",
              "      <td>60.583333</td>\n",
              "      <td>2021-10-12 16:50</td>\n",
              "    </tr>\n",
              "  </tbody>\n",
              "</table>\n",
              "</div>"
            ],
            "text/plain": [
              "   Temperature (°C)  Humidity (%)         date_time\n",
              "0         26.000000     66.000000  2021-10-12 16:46\n",
              "1         26.181818     65.181818  2021-10-12 16:47\n",
              "2         27.083333     64.666667  2021-10-12 16:48\n",
              "3         27.363636     65.000000  2021-10-12 16:49\n",
              "4         27.000000     60.583333  2021-10-12 16:50"
            ]
          },
          "metadata": {},
          "execution_count": 256
        }
      ]
    },
    {
      "cell_type": "code",
      "metadata": {
        "id": "Ajp3zH-VuYq7",
        "colab": {
          "base_uri": "https://localhost:8080/",
          "height": 49
        },
        "outputId": "d4404fdc-7c51-49c8-f06b-4ae9307b72eb"
      },
      "source": [
        "pred_date = '2021-10-12 10:20'\n",
        "\n",
        "# user_date = datetime.strptime(pred_date,'%Y-%m-%d').date()\n",
        "# print(user_date)\n",
        "\n",
        "datetemp_mean[datetemp_mean['date_time'] == pred_date]"
      ],
      "execution_count": null,
      "outputs": [
        {
          "output_type": "execute_result",
          "data": {
            "text/html": [
              "<div>\n",
              "<style scoped>\n",
              "    .dataframe tbody tr th:only-of-type {\n",
              "        vertical-align: middle;\n",
              "    }\n",
              "\n",
              "    .dataframe tbody tr th {\n",
              "        vertical-align: top;\n",
              "    }\n",
              "\n",
              "    .dataframe thead th {\n",
              "        text-align: right;\n",
              "    }\n",
              "</style>\n",
              "<table border=\"1\" class=\"dataframe\">\n",
              "  <thead>\n",
              "    <tr style=\"text-align: right;\">\n",
              "      <th></th>\n",
              "      <th>Temperature (°C)</th>\n",
              "      <th>Humidity (%)</th>\n",
              "      <th>date_time</th>\n",
              "    </tr>\n",
              "  </thead>\n",
              "  <tbody>\n",
              "  </tbody>\n",
              "</table>\n",
              "</div>"
            ],
            "text/plain": [
              "Empty DataFrame\n",
              "Columns: [Temperature (°C), Humidity (%), date_time]\n",
              "Index: []"
            ]
          },
          "metadata": {},
          "execution_count": 259
        }
      ]
    },
    {
      "cell_type": "code",
      "metadata": {
        "id": "oXwXVJu_uL36",
        "colab": {
          "base_uri": "https://localhost:8080/",
          "height": 252
        },
        "outputId": "7ef078bc-c0e6-4325-ffd1-36a50edb0108"
      },
      "source": [
        "anvil.server.wait_forever() "
      ],
      "execution_count": null,
      "outputs": [
        {
          "output_type": "error",
          "ename": "KeyboardInterrupt",
          "evalue": "ignored",
          "traceback": [
            "\u001b[0;31m---------------------------------------------------------------------------\u001b[0m",
            "\u001b[0;31mKeyboardInterrupt\u001b[0m                         Traceback (most recent call last)",
            "\u001b[0;32m<ipython-input-258-6415608aa589>\u001b[0m in \u001b[0;36m<module>\u001b[0;34m()\u001b[0m\n\u001b[0;32m----> 1\u001b[0;31m \u001b[0manvil\u001b[0m\u001b[0;34m.\u001b[0m\u001b[0mserver\u001b[0m\u001b[0;34m.\u001b[0m\u001b[0mwait_forever\u001b[0m\u001b[0;34m(\u001b[0m\u001b[0;34m)\u001b[0m\u001b[0;34m\u001b[0m\u001b[0;34m\u001b[0m\u001b[0m\n\u001b[0m",
            "\u001b[0;32m/usr/local/lib/python3.7/dist-packages/anvil/server.py\u001b[0m in \u001b[0;36mwait_forever\u001b[0;34m()\u001b[0m\n\u001b[1;32m    430\u001b[0m     \u001b[0m_get_connection\u001b[0m\u001b[0;34m(\u001b[0m\u001b[0;34m)\u001b[0m\u001b[0;34m\u001b[0m\u001b[0;34m\u001b[0m\u001b[0m\n\u001b[1;32m    431\u001b[0m     \u001b[0;32mwhile\u001b[0m \u001b[0;32mTrue\u001b[0m\u001b[0;34m:\u001b[0m\u001b[0;34m\u001b[0m\u001b[0;34m\u001b[0m\u001b[0m\n\u001b[0;32m--> 432\u001b[0;31m         \u001b[0mtime\u001b[0m\u001b[0;34m.\u001b[0m\u001b[0msleep\u001b[0m\u001b[0;34m(\u001b[0m\u001b[0;36m1\u001b[0m\u001b[0;34m)\u001b[0m\u001b[0;34m\u001b[0m\u001b[0;34m\u001b[0m\u001b[0m\n\u001b[0m",
            "\u001b[0;31mKeyboardInterrupt\u001b[0m: "
          ]
        }
      ]
    }
  ]
}